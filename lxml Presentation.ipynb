{
 "metadata": {
  "celltoolbar": "Slideshow",
  "name": "",
  "signature": "sha256:bf2e866ca514709f0cabcb3408e73abb6e4698b4d501078302790ada45649dd9"
 },
 "nbformat": 3,
 "nbformat_minor": 0,
 "worksheets": [
  {
   "cells": [
    {
     "cell_type": "markdown",
     "metadata": {
      "slideshow": {
       "slide_type": "slide"
      }
     },
     "source": [
      "# Markup is still a thing. Deal with it. \n",
      "## *lxml.etree (and friends) makes it easy!*\n",
      "<hr>\n",
      "<div style=\"width:32%;float:left\">Presented by Brad Smith</div>\n",
      "<div style=\"width:32%;float:left;text-align:center\">brad@geekdome.net</div>\n",
      "<div style=\"text-align:right\">github: usernamenumber</div>"
     ]
    },
    {
     "cell_type": "markdown",
     "metadata": {
      "slideshow": {
       "slide_type": "slide"
      }
     },
     "source": [
      "# The Three Amigos of XML\n",
      "* [LXML](http://lxml.de/): Treat element trees like Python lists\n",
      "* [XPath](http://w3schools.com/xpath): Describe *exactly* what part(s) of the tree you want\n",
      "* [XSLT](http://www.w3schools.com/xsl/default.asp): Transform \\*ML content into *anything*"
     ]
    },
    {
     "cell_type": "markdown",
     "metadata": {
      "slideshow": {
       "slide_type": "slide"
      }
     },
     "source": [
      "# LXML can parse...\n",
      "## XML (of course)\n",
      "\n",
      "```\n",
      "import lxml.etree\n",
      "lxml.etree.parse(\"file.xml\")\n",
      "```"
     ]
    },
    {
     "cell_type": "markdown",
     "metadata": {
      "slideshow": {
       "slide_type": "fragment"
      }
     },
     "source": [
      "## HTML\n",
      "\n",
      "```\n",
      "import lxml.etree\n",
      "lxml.etree.parse(\"file.html\", parser = lxml.etree.HTMLParser())\n",
      "```"
     ]
    },
    {
     "cell_type": "markdown",
     "metadata": {
      "slideshow": {
       "slide_type": "fragment"
      }
     },
     "source": [
      "## Anything you write a parser for!\n",
      "\n",
      "    (out of scope of this talk)\n",
      "    \n",
      "    ...but you can start by subclassing `lxml.etree._FeedParser`"
     ]
    },
    {
     "cell_type": "markdown",
     "metadata": {
      "slideshow": {
       "slide_type": "slide"
      }
     },
     "source": [
      "# Content can be represented by a...\n",
      "\n",
      "* File name \n",
      "* URL\n",
      "* Result of `open(\"filename\",\"r\")`\n",
      "* \"File-like object\" (FLO) from string\n",
      "  * *cStringIO to the rescue!*"
     ]
    },
    {
     "cell_type": "markdown",
     "metadata": {
      "slideshow": {
       "slide_type": "slide"
      }
     },
     "source": [
      "# A simple example\n",
      "## Reading from a string / FLO"
     ]
    },
    {
     "cell_type": "code",
     "collapsed": false,
     "input": [
      "import lxml.etree\n",
      "import cStringIO\n",
      "html = \"\"\"\n",
      "<html>\n",
      "  <head>\n",
      "    <title>Some Site</title>\n",
      "  </head>\n",
      "  <body>\n",
      "    <ol>\n",
      "        <li>HTML parsing can handle\n",
      "        <li>Common broken HTML conventions\n",
      "    </ol>\n",
      "  </body>\n",
      "</html>\n",
      "\"\"\"\n",
      "totally_a_file = cStringIO.StringIO(html)\n",
      "parsed = lxml.etree.parse(totally_a_file, lxml.etree.HTMLParser())\n",
      "print parsed"
     ],
     "language": "python",
     "metadata": {
      "slideshow": {
       "slide_type": "-"
      }
     },
     "outputs": [
      {
       "output_type": "stream",
       "stream": "stdout",
       "text": [
        "<lxml.etree._ElementTree object at 0x10a3e6518>\n"
       ]
      }
     ],
     "prompt_number": 57
    },
    {
     "cell_type": "code",
     "collapsed": false,
     "input": [
      "# Most of the interesting stuff begins with the root element\n",
      "root = parsed.getroot()\n",
      "print root"
     ],
     "language": "python",
     "metadata": {
      "slideshow": {
       "slide_type": "fragment"
      }
     },
     "outputs": [
      {
       "output_type": "stream",
       "stream": "stdout",
       "text": [
        "<Element html at 0x1089fc248>\n"
       ]
      }
     ],
     "prompt_number": 43
    },
    {
     "cell_type": "code",
     "collapsed": false,
     "input": [
      "# An lxml Element object is basically a Python list\n",
      "root[:]"
     ],
     "language": "python",
     "metadata": {
      "slideshow": {
       "slide_type": "fragment"
      }
     },
     "outputs": [
      {
       "metadata": {},
       "output_type": "pyout",
       "prompt_number": 44,
       "text": [
        "[<Element head at 0x1089fc128>, <Element body at 0x1089fc1b8>]"
       ]
      }
     ],
     "prompt_number": 44
    },
    {
     "cell_type": "code",
     "collapsed": false,
     "input": [
      "# (with added convenience methods!)\n",
      "\n",
      "# Select children by name\n",
      "body = root.find(\"body\") \n",
      "\n",
      "# Recurse through the tree from here\n",
      "for child in body.iterdescendants():\n",
      "    print child"
     ],
     "language": "python",
     "metadata": {
      "slideshow": {
       "slide_type": "fragment"
      }
     },
     "outputs": [
      {
       "output_type": "stream",
       "stream": "stdout",
       "text": [
        "<Element ol at 0x1089e04d0>\n",
        "<Element li at 0x1089fc290>\n",
        "<Element li at 0x108867b90>\n"
       ]
      }
     ],
     "prompt_number": 47
    },
    {
     "cell_type": "markdown",
     "metadata": {
      "slideshow": {
       "slide_type": "slide"
      }
     },
     "source": [
      "# An element can be re-rendered with `lxml.etree.tostring()`"
     ]
    },
    {
     "cell_type": "code",
     "collapsed": false,
     "input": [
      "head = root[0]\n",
      "print lxml.etree.tostring(head, pretty_print=True, method=\"html\")"
     ],
     "language": "python",
     "metadata": {
      "slideshow": {
       "slide_type": "-"
      }
     },
     "outputs": [
      {
       "output_type": "stream",
       "stream": "stdout",
       "text": [
        "<head>\n",
        "    <title>Some Site</title>\n",
        "  </head>\n",
        "  \n",
        "\n"
       ]
      }
     ],
     "prompt_number": 48
    },
    {
     "cell_type": "markdown",
     "metadata": {
      "slideshow": {
       "slide_type": "slide"
      }
     },
     "source": [
      "# Example: Scrape a web page"
     ]
    },
    {
     "cell_type": "code",
     "collapsed": false,
     "input": [
      "import lxml.etree\n",
      "import cStringIO\n",
      "#lkms = lxml.etree.parse(\"http://lkml.org/lkml/last100/\", parser=lxml.etree.HTMLParser())\n",
      "lkms = lxml.etree.parse(\"lkms-last100.html\", parser=lxml.etree.HTMLParser())\n",
      "lkms_root = lkms.getroot()\n",
      "print lkms_root"
     ],
     "language": "python",
     "metadata": {
      "slideshow": {
       "slide_type": "fragment"
      }
     },
     "outputs": [
      {
       "output_type": "stream",
       "stream": "stdout",
       "text": [
        "<Element html at 0x1089fc638>\n"
       ]
      }
     ],
     "prompt_number": 51
    },
    {
     "cell_type": "markdown",
     "metadata": {
      "slideshow": {
       "slide_type": "slide"
      }
     },
     "source": [
      "# What if we wanted to extract all links to messages?"
     ]
    },
    {
     "cell_type": "markdown",
     "metadata": {
      "slideshow": {
       "slide_type": "fragment"
      }
     },
     "source": [
      "## *Problem!* `.find()` only searches immediate children (non-recursive)\n",
      "```\n",
      "lkms_root.find(\"a\")  # nothing returned\n",
      "```"
     ]
    },
    {
     "cell_type": "markdown",
     "metadata": {
      "slideshow": {
       "slide_type": "fragment"
      }
     },
     "source": [
      "## *Solution!* `XPath`\n",
      "### Implemented by `some_element.xpath(...)`"
     ]
    },
    {
     "cell_type": "code",
     "collapsed": false,
     "input": [
      "# a simple XPath expression\n",
      "lkms_root.xpath(\"descendant::a\")"
     ],
     "language": "python",
     "metadata": {
      "slideshow": {
       "slide_type": "subslide"
      }
     },
     "outputs": [
      {
       "metadata": {},
       "output_type": "pyout",
       "prompt_number": 52,
       "text": [
        "[<Element a at 0x1089fc518>,\n",
        " <Element a at 0x1089fc950>,\n",
        " <Element a at 0x1089fc998>,\n",
        " <Element a at 0x1089fca70>,\n",
        " <Element a at 0x1089fcab8>,\n",
        " <Element a at 0x1089fca28>,\n",
        " <Element a at 0x1089fc9e0>,\n",
        " <Element a at 0x1089fcb00>,\n",
        " <Element a at 0x1089fcb48>,\n",
        " <Element a at 0x1089fcb90>,\n",
        " <Element a at 0x1089fcbd8>,\n",
        " <Element a at 0x1089fcc20>,\n",
        " <Element a at 0x1089fcc68>,\n",
        " <Element a at 0x1089fccb0>,\n",
        " <Element a at 0x1089fccf8>,\n",
        " <Element a at 0x1089fcd40>,\n",
        " <Element a at 0x1089fcd88>,\n",
        " <Element a at 0x1089fcdd0>,\n",
        " <Element a at 0x1089fce18>,\n",
        " <Element a at 0x1089fce60>,\n",
        " <Element a at 0x1089fcea8>,\n",
        " <Element a at 0x1089fcef0>,\n",
        " <Element a at 0x1089fcf38>,\n",
        " <Element a at 0x1089fcf80>,\n",
        " <Element a at 0x1089fcfc8>,\n",
        " <Element a at 0x10a3f2050>,\n",
        " <Element a at 0x10a3f2098>,\n",
        " <Element a at 0x10a3f20e0>,\n",
        " <Element a at 0x10a3f2128>,\n",
        " <Element a at 0x10a3f2170>,\n",
        " <Element a at 0x10a3f21b8>,\n",
        " <Element a at 0x10a3f2200>,\n",
        " <Element a at 0x10a3f2248>,\n",
        " <Element a at 0x10a3f2290>,\n",
        " <Element a at 0x10a3f22d8>,\n",
        " <Element a at 0x10a3f2320>,\n",
        " <Element a at 0x10a3f2368>,\n",
        " <Element a at 0x10a3f23b0>,\n",
        " <Element a at 0x10a3f23f8>,\n",
        " <Element a at 0x10a3f2440>,\n",
        " <Element a at 0x10a3f2488>,\n",
        " <Element a at 0x10a3f24d0>,\n",
        " <Element a at 0x10a3f2518>,\n",
        " <Element a at 0x10a3f2560>,\n",
        " <Element a at 0x10a3f25a8>,\n",
        " <Element a at 0x10a3f25f0>,\n",
        " <Element a at 0x10a3f2638>,\n",
        " <Element a at 0x10a3f2680>,\n",
        " <Element a at 0x10a3f26c8>,\n",
        " <Element a at 0x10a3f2710>,\n",
        " <Element a at 0x10a3f2758>,\n",
        " <Element a at 0x10a3f27a0>,\n",
        " <Element a at 0x10a3f27e8>,\n",
        " <Element a at 0x10a3f2830>,\n",
        " <Element a at 0x10a3f2878>,\n",
        " <Element a at 0x10a3f28c0>,\n",
        " <Element a at 0x10a3f2908>,\n",
        " <Element a at 0x10a3f2950>,\n",
        " <Element a at 0x10a3f2998>,\n",
        " <Element a at 0x10a3f29e0>,\n",
        " <Element a at 0x10a3f2a28>,\n",
        " <Element a at 0x10a3f2a70>,\n",
        " <Element a at 0x10a3f2ab8>,\n",
        " <Element a at 0x10a3f2b00>,\n",
        " <Element a at 0x10a3f2b48>,\n",
        " <Element a at 0x10a3f2b90>,\n",
        " <Element a at 0x10a3f2bd8>,\n",
        " <Element a at 0x10a3f2c20>,\n",
        " <Element a at 0x10a3f2c68>,\n",
        " <Element a at 0x10a3f2cb0>,\n",
        " <Element a at 0x10a3f2cf8>,\n",
        " <Element a at 0x10a3f2d40>,\n",
        " <Element a at 0x10a3f2d88>,\n",
        " <Element a at 0x10a3f2dd0>,\n",
        " <Element a at 0x10a3f2e18>,\n",
        " <Element a at 0x10a3f2e60>,\n",
        " <Element a at 0x10a3f2ea8>,\n",
        " <Element a at 0x10a3f2ef0>,\n",
        " <Element a at 0x10a3f2f38>,\n",
        " <Element a at 0x10a3f2f80>,\n",
        " <Element a at 0x10a3f2fc8>,\n",
        " <Element a at 0x10a3d7050>,\n",
        " <Element a at 0x10a3d7098>,\n",
        " <Element a at 0x10a3d70e0>,\n",
        " <Element a at 0x10a3d7128>,\n",
        " <Element a at 0x10a3d7170>,\n",
        " <Element a at 0x10a3d71b8>,\n",
        " <Element a at 0x10a3d7200>,\n",
        " <Element a at 0x10a3d7248>,\n",
        " <Element a at 0x10a3d7290>,\n",
        " <Element a at 0x10a3d72d8>,\n",
        " <Element a at 0x10a3d7320>,\n",
        " <Element a at 0x10a3d7368>,\n",
        " <Element a at 0x10a3d73b0>,\n",
        " <Element a at 0x10a3d73f8>,\n",
        " <Element a at 0x10a3d7440>,\n",
        " <Element a at 0x10a3d7488>,\n",
        " <Element a at 0x10a3d74d0>,\n",
        " <Element a at 0x10a3d7518>,\n",
        " <Element a at 0x10a3d7560>,\n",
        " <Element a at 0x10a3d75a8>,\n",
        " <Element a at 0x10a3d75f0>,\n",
        " <Element a at 0x10a3d7638>,\n",
        " <Element a at 0x10a3d7680>,\n",
        " <Element a at 0x10a3d76c8>,\n",
        " <Element a at 0x10a3d7710>,\n",
        " <Element a at 0x10a3d7758>,\n",
        " <Element a at 0x10a3d77a0>,\n",
        " <Element a at 0x10a3d77e8>,\n",
        " <Element a at 0x10a3d7830>,\n",
        " <Element a at 0x10a3d7878>,\n",
        " <Element a at 0x10a3d78c0>,\n",
        " <Element a at 0x10a3d7908>,\n",
        " <Element a at 0x10a3d7950>,\n",
        " <Element a at 0x10a3d7998>,\n",
        " <Element a at 0x10a3d79e0>,\n",
        " <Element a at 0x10a3d7a28>,\n",
        " <Element a at 0x10a3d7a70>,\n",
        " <Element a at 0x10a3d7ab8>,\n",
        " <Element a at 0x10a3d7b00>,\n",
        " <Element a at 0x10a3d7b48>,\n",
        " <Element a at 0x10a3d7b90>,\n",
        " <Element a at 0x10a3d7bd8>,\n",
        " <Element a at 0x10a3d7c20>,\n",
        " <Element a at 0x10a3d7c68>,\n",
        " <Element a at 0x10a3d7cb0>,\n",
        " <Element a at 0x10a3d7cf8>,\n",
        " <Element a at 0x10a3d7d40>,\n",
        " <Element a at 0x10a3d7d88>,\n",
        " <Element a at 0x10a3d7dd0>,\n",
        " <Element a at 0x10a3d7e18>,\n",
        " <Element a at 0x10a3d7e60>,\n",
        " <Element a at 0x10a3d7ea8>,\n",
        " <Element a at 0x10a3d7ef0>,\n",
        " <Element a at 0x10a3d7f38>,\n",
        " <Element a at 0x10a3d7f80>,\n",
        " <Element a at 0x10a3d7fc8>,\n",
        " <Element a at 0x10a3c8050>,\n",
        " <Element a at 0x10a3c8098>,\n",
        " <Element a at 0x10a3c80e0>,\n",
        " <Element a at 0x10a3c8128>,\n",
        " <Element a at 0x10a3c8170>,\n",
        " <Element a at 0x10a3c81b8>,\n",
        " <Element a at 0x10a3c8200>,\n",
        " <Element a at 0x10a3c8248>,\n",
        " <Element a at 0x10a3c8290>,\n",
        " <Element a at 0x10a3c82d8>,\n",
        " <Element a at 0x10a3c8320>,\n",
        " <Element a at 0x10a3c8368>,\n",
        " <Element a at 0x10a3c83b0>,\n",
        " <Element a at 0x10a3c83f8>,\n",
        " <Element a at 0x10a3c8440>,\n",
        " <Element a at 0x10a3c8488>,\n",
        " <Element a at 0x10a3c84d0>,\n",
        " <Element a at 0x10a3c8518>,\n",
        " <Element a at 0x10a3c8560>,\n",
        " <Element a at 0x10a3c85a8>,\n",
        " <Element a at 0x10a3c85f0>,\n",
        " <Element a at 0x10a3c8638>,\n",
        " <Element a at 0x10a3c8680>,\n",
        " <Element a at 0x10a3c86c8>,\n",
        " <Element a at 0x10a3c8710>,\n",
        " <Element a at 0x10a3c8758>,\n",
        " <Element a at 0x10a3c87a0>,\n",
        " <Element a at 0x10a3c87e8>,\n",
        " <Element a at 0x10a3c8830>,\n",
        " <Element a at 0x10a3c8878>,\n",
        " <Element a at 0x10a3c88c0>,\n",
        " <Element a at 0x10a3c8908>,\n",
        " <Element a at 0x10a3c8950>,\n",
        " <Element a at 0x10a3c8998>,\n",
        " <Element a at 0x10a3c89e0>,\n",
        " <Element a at 0x10a3c8a28>,\n",
        " <Element a at 0x10a3c8a70>,\n",
        " <Element a at 0x10a3c8ab8>,\n",
        " <Element a at 0x10a3c8b00>,\n",
        " <Element a at 0x10a3c8b48>,\n",
        " <Element a at 0x10a3c8b90>,\n",
        " <Element a at 0x10a3c8bd8>,\n",
        " <Element a at 0x10a3c8c20>,\n",
        " <Element a at 0x10a3c8c68>,\n",
        " <Element a at 0x10a3c8cb0>,\n",
        " <Element a at 0x10a3c8cf8>,\n",
        " <Element a at 0x10a3c8d40>,\n",
        " <Element a at 0x10a3c8d88>,\n",
        " <Element a at 0x10a3c8dd0>,\n",
        " <Element a at 0x10a3c8e18>,\n",
        " <Element a at 0x10a3c8e60>,\n",
        " <Element a at 0x10a3c8ea8>,\n",
        " <Element a at 0x10a3c8ef0>,\n",
        " <Element a at 0x10a3c8f38>,\n",
        " <Element a at 0x10a3c8f80>,\n",
        " <Element a at 0x10a3c8fc8>,\n",
        " <Element a at 0x10a3e6050>,\n",
        " <Element a at 0x10a3e6098>,\n",
        " <Element a at 0x10a3e60e0>,\n",
        " <Element a at 0x10a3e6128>,\n",
        " <Element a at 0x10a3e6170>,\n",
        " <Element a at 0x10a3e61b8>,\n",
        " <Element a at 0x10a3e6200>,\n",
        " <Element a at 0x10a3e6248>,\n",
        " <Element a at 0x10a3e6290>,\n",
        " <Element a at 0x10a3e62d8>,\n",
        " <Element a at 0x10a3e6320>,\n",
        " <Element a at 0x10a3e6368>,\n",
        " <Element a at 0x10a3e63b0>]"
       ]
      }
     ],
     "prompt_number": 52
    },
    {
     "cell_type": "code",
     "collapsed": false,
     "input": [
      "# Shorthand for the above \n",
      "# \"//\" searches recursively from document root\n",
      "lkms_root.xpath(\"//a\")"
     ],
     "language": "python",
     "metadata": {
      "slideshow": {
       "slide_type": "subslide"
      }
     },
     "outputs": [
      {
       "metadata": {},
       "output_type": "pyout",
       "prompt_number": 54,
       "text": [
        "[<Element a at 0x1089fc518>,\n",
        " <Element a at 0x1089fc950>,\n",
        " <Element a at 0x1089fc998>,\n",
        " <Element a at 0x1089fca70>,\n",
        " <Element a at 0x1089fcab8>,\n",
        " <Element a at 0x1089fca28>,\n",
        " <Element a at 0x1089fc9e0>,\n",
        " <Element a at 0x1089fcb00>,\n",
        " <Element a at 0x1089fcb48>,\n",
        " <Element a at 0x1089fcb90>,\n",
        " <Element a at 0x1089fcbd8>,\n",
        " <Element a at 0x1089fcc20>,\n",
        " <Element a at 0x1089fcc68>,\n",
        " <Element a at 0x1089fccb0>,\n",
        " <Element a at 0x1089fccf8>,\n",
        " <Element a at 0x1089fcd40>,\n",
        " <Element a at 0x1089fcd88>,\n",
        " <Element a at 0x1089fcdd0>,\n",
        " <Element a at 0x1089fce18>,\n",
        " <Element a at 0x1089fce60>,\n",
        " <Element a at 0x1089fcea8>,\n",
        " <Element a at 0x1089fcef0>,\n",
        " <Element a at 0x1089fcf38>,\n",
        " <Element a at 0x1089fcf80>,\n",
        " <Element a at 0x1089fcfc8>,\n",
        " <Element a at 0x10a3f2050>,\n",
        " <Element a at 0x10a3f2098>,\n",
        " <Element a at 0x10a3f20e0>,\n",
        " <Element a at 0x10a3f2128>,\n",
        " <Element a at 0x10a3f2170>,\n",
        " <Element a at 0x10a3f21b8>,\n",
        " <Element a at 0x10a3f2200>,\n",
        " <Element a at 0x10a3f2248>,\n",
        " <Element a at 0x10a3f2290>,\n",
        " <Element a at 0x10a3f22d8>,\n",
        " <Element a at 0x10a3f2320>,\n",
        " <Element a at 0x10a3f2368>,\n",
        " <Element a at 0x10a3f23b0>,\n",
        " <Element a at 0x10a3f23f8>,\n",
        " <Element a at 0x10a3f2440>,\n",
        " <Element a at 0x10a3f2488>,\n",
        " <Element a at 0x10a3f24d0>,\n",
        " <Element a at 0x10a3f2518>,\n",
        " <Element a at 0x10a3f2560>,\n",
        " <Element a at 0x10a3f25a8>,\n",
        " <Element a at 0x10a3f25f0>,\n",
        " <Element a at 0x10a3f2638>,\n",
        " <Element a at 0x10a3f2680>,\n",
        " <Element a at 0x10a3f26c8>,\n",
        " <Element a at 0x10a3f2710>,\n",
        " <Element a at 0x10a3f2758>,\n",
        " <Element a at 0x10a3f27a0>,\n",
        " <Element a at 0x10a3f27e8>,\n",
        " <Element a at 0x10a3f2830>,\n",
        " <Element a at 0x10a3f2878>,\n",
        " <Element a at 0x10a3f28c0>,\n",
        " <Element a at 0x10a3f2908>,\n",
        " <Element a at 0x10a3f2950>,\n",
        " <Element a at 0x10a3f2998>,\n",
        " <Element a at 0x10a3f29e0>,\n",
        " <Element a at 0x10a3f2a28>,\n",
        " <Element a at 0x10a3f2a70>,\n",
        " <Element a at 0x10a3f2ab8>,\n",
        " <Element a at 0x10a3f2b00>,\n",
        " <Element a at 0x10a3f2b48>,\n",
        " <Element a at 0x10a3f2b90>,\n",
        " <Element a at 0x10a3f2bd8>,\n",
        " <Element a at 0x10a3f2c20>,\n",
        " <Element a at 0x10a3f2c68>,\n",
        " <Element a at 0x10a3f2cb0>,\n",
        " <Element a at 0x10a3f2cf8>,\n",
        " <Element a at 0x10a3f2d40>,\n",
        " <Element a at 0x10a3f2d88>,\n",
        " <Element a at 0x10a3f2dd0>,\n",
        " <Element a at 0x10a3f2e18>,\n",
        " <Element a at 0x10a3f2e60>,\n",
        " <Element a at 0x10a3f2ea8>,\n",
        " <Element a at 0x10a3f2ef0>,\n",
        " <Element a at 0x10a3f2f38>,\n",
        " <Element a at 0x10a3f2f80>,\n",
        " <Element a at 0x10a3f2fc8>,\n",
        " <Element a at 0x10a3d7050>,\n",
        " <Element a at 0x10a3d7098>,\n",
        " <Element a at 0x10a3d70e0>,\n",
        " <Element a at 0x10a3d7128>,\n",
        " <Element a at 0x10a3d7170>,\n",
        " <Element a at 0x10a3d71b8>,\n",
        " <Element a at 0x10a3d7200>,\n",
        " <Element a at 0x10a3d7248>,\n",
        " <Element a at 0x10a3d7290>,\n",
        " <Element a at 0x10a3d72d8>,\n",
        " <Element a at 0x10a3d7320>,\n",
        " <Element a at 0x10a3d7368>,\n",
        " <Element a at 0x10a3d73b0>,\n",
        " <Element a at 0x10a3d73f8>,\n",
        " <Element a at 0x10a3d7440>,\n",
        " <Element a at 0x10a3d7488>,\n",
        " <Element a at 0x10a3d74d0>,\n",
        " <Element a at 0x10a3d7518>,\n",
        " <Element a at 0x10a3d7560>,\n",
        " <Element a at 0x10a3d75a8>,\n",
        " <Element a at 0x10a3d75f0>,\n",
        " <Element a at 0x10a3d7638>,\n",
        " <Element a at 0x10a3d7680>,\n",
        " <Element a at 0x10a3d76c8>,\n",
        " <Element a at 0x10a3d7710>,\n",
        " <Element a at 0x10a3d7758>,\n",
        " <Element a at 0x10a3d77a0>,\n",
        " <Element a at 0x10a3d77e8>,\n",
        " <Element a at 0x10a3d7830>,\n",
        " <Element a at 0x10a3d7878>,\n",
        " <Element a at 0x10a3d78c0>,\n",
        " <Element a at 0x10a3d7908>,\n",
        " <Element a at 0x10a3d7950>,\n",
        " <Element a at 0x10a3d7998>,\n",
        " <Element a at 0x10a3d79e0>,\n",
        " <Element a at 0x10a3d7a28>,\n",
        " <Element a at 0x10a3d7a70>,\n",
        " <Element a at 0x10a3d7ab8>,\n",
        " <Element a at 0x10a3d7b00>,\n",
        " <Element a at 0x10a3d7b48>,\n",
        " <Element a at 0x10a3d7b90>,\n",
        " <Element a at 0x10a3d7bd8>,\n",
        " <Element a at 0x10a3d7c20>,\n",
        " <Element a at 0x10a3d7c68>,\n",
        " <Element a at 0x10a3d7cb0>,\n",
        " <Element a at 0x10a3d7cf8>,\n",
        " <Element a at 0x10a3d7d40>,\n",
        " <Element a at 0x10a3d7d88>,\n",
        " <Element a at 0x10a3d7dd0>,\n",
        " <Element a at 0x10a3d7e18>,\n",
        " <Element a at 0x10a3d7e60>,\n",
        " <Element a at 0x10a3d7ea8>,\n",
        " <Element a at 0x10a3d7ef0>,\n",
        " <Element a at 0x10a3d7f38>,\n",
        " <Element a at 0x10a3d7f80>,\n",
        " <Element a at 0x10a3d7fc8>,\n",
        " <Element a at 0x10a3c8050>,\n",
        " <Element a at 0x10a3c8098>,\n",
        " <Element a at 0x10a3c80e0>,\n",
        " <Element a at 0x10a3c8128>,\n",
        " <Element a at 0x10a3c8170>,\n",
        " <Element a at 0x10a3c81b8>,\n",
        " <Element a at 0x10a3c8200>,\n",
        " <Element a at 0x10a3c8248>,\n",
        " <Element a at 0x10a3c8290>,\n",
        " <Element a at 0x10a3c82d8>,\n",
        " <Element a at 0x10a3c8320>,\n",
        " <Element a at 0x10a3c8368>,\n",
        " <Element a at 0x10a3c83b0>,\n",
        " <Element a at 0x10a3c83f8>,\n",
        " <Element a at 0x10a3c8440>,\n",
        " <Element a at 0x10a3c8488>,\n",
        " <Element a at 0x10a3c84d0>,\n",
        " <Element a at 0x10a3c8518>,\n",
        " <Element a at 0x10a3c8560>,\n",
        " <Element a at 0x10a3c85a8>,\n",
        " <Element a at 0x10a3c85f0>,\n",
        " <Element a at 0x10a3c8638>,\n",
        " <Element a at 0x10a3c8680>,\n",
        " <Element a at 0x10a3c86c8>,\n",
        " <Element a at 0x10a3c8710>,\n",
        " <Element a at 0x10a3c8758>,\n",
        " <Element a at 0x10a3c87a0>,\n",
        " <Element a at 0x10a3c87e8>,\n",
        " <Element a at 0x10a3c8830>,\n",
        " <Element a at 0x10a3c8878>,\n",
        " <Element a at 0x10a3c88c0>,\n",
        " <Element a at 0x10a3c8908>,\n",
        " <Element a at 0x10a3c8950>,\n",
        " <Element a at 0x10a3c8998>,\n",
        " <Element a at 0x10a3c89e0>,\n",
        " <Element a at 0x10a3c8a28>,\n",
        " <Element a at 0x10a3c8a70>,\n",
        " <Element a at 0x10a3c8ab8>,\n",
        " <Element a at 0x10a3c8b00>,\n",
        " <Element a at 0x10a3c8b48>,\n",
        " <Element a at 0x10a3c8b90>,\n",
        " <Element a at 0x10a3c8bd8>,\n",
        " <Element a at 0x10a3c8c20>,\n",
        " <Element a at 0x10a3c8c68>,\n",
        " <Element a at 0x10a3c8cb0>,\n",
        " <Element a at 0x10a3c8cf8>,\n",
        " <Element a at 0x10a3c8d40>,\n",
        " <Element a at 0x10a3c8d88>,\n",
        " <Element a at 0x10a3c8dd0>,\n",
        " <Element a at 0x10a3c8e18>,\n",
        " <Element a at 0x10a3c8e60>,\n",
        " <Element a at 0x10a3c8ea8>,\n",
        " <Element a at 0x10a3c8ef0>,\n",
        " <Element a at 0x10a3c8f38>,\n",
        " <Element a at 0x10a3c8f80>,\n",
        " <Element a at 0x10a3c8fc8>,\n",
        " <Element a at 0x10a3e6050>,\n",
        " <Element a at 0x10a3e6098>,\n",
        " <Element a at 0x10a3e60e0>,\n",
        " <Element a at 0x10a3e6128>,\n",
        " <Element a at 0x10a3e6170>,\n",
        " <Element a at 0x10a3e61b8>,\n",
        " <Element a at 0x10a3e6200>,\n",
        " <Element a at 0x10a3e6248>,\n",
        " <Element a at 0x10a3e6290>,\n",
        " <Element a at 0x10a3e62d8>,\n",
        " <Element a at 0x10a3e6320>,\n",
        " <Element a at 0x10a3e6368>,\n",
        " <Element a at 0x10a3e63b0>]"
       ]
      }
     ],
     "prompt_number": 54
    },
    {
     "cell_type": "markdown",
     "metadata": {
      "slideshow": {
       "slide_type": "slide"
      }
     },
     "source": [
      "# Example: Extract links from the scraped data\n",
      "## *Problem!* not all links go to an email"
     ]
    },
    {
     "cell_type": "code",
     "collapsed": false,
     "input": [
      "first_link = lkms.xpath(\"//a\")[0]\n",
      "print lxml.etree.tostring(first_link)"
     ],
     "language": "python",
     "metadata": {
      "slideshow": {
       "slide_type": "fragment"
      }
     },
     "outputs": [
      {
       "output_type": "stream",
       "stream": "stdout",
       "text": [
        "<a href=\"/\"><img style=\"border:0;width:135px;height:32px\" src=\"/images/toprowlk.gif\" alt=\"lkml.org\" /></a>\n"
       ]
      }
     ],
     "prompt_number": 25
    },
    {
     "cell_type": "markdown",
     "metadata": {
      "slideshow": {
       "slide_type": "subslide"
      }
     },
     "source": [
      "# *Solution!*  Be more specific\n",
      "## XPath statements can have criteria in [ ] "
     ]
    },
    {
     "cell_type": "code",
     "collapsed": false,
     "input": [
      "# Attribute names are prefixed with '@'\n",
      "message_links = lkms_root.xpath(\"//a[@class='nb']\")"
     ],
     "language": "python",
     "metadata": {
      "slideshow": {
       "slide_type": "-"
      }
     },
     "outputs": [],
     "prompt_number": 26
    },
    {
     "cell_type": "code",
     "collapsed": false,
     "input": [
      "# Unfortunately, this still isn't specific enough to get only links to emails\n",
      "print lxml.etree.tostring(message_links[0])"
     ],
     "language": "python",
     "metadata": {
      "slideshow": {
       "slide_type": "fragment"
      }
     },
     "outputs": [
      {
       "output_type": "stream",
       "stream": "stdout",
       "text": [
        "<a class=\"nb\" href=\"/lkml\">[lkml]</a>\n",
        "     &#160;\n",
        "\n"
       ]
      }
     ],
     "prompt_number": 27
    },
    {
     "cell_type": "code",
     "collapsed": false,
     "input": [
      "# XPath functions provide more options\n",
      "message_links = lkms_root.xpath(\"//a[ contains(@href,'/lkml/20') ]\")\n",
      "print lxml.etree.tostring(message_links[0])"
     ],
     "language": "python",
     "metadata": {
      "slideshow": {
       "slide_type": "fragment"
      }
     },
     "outputs": [
      {
       "output_type": "stream",
       "stream": "stdout",
       "text": [
        "<a class=\"nb\" href=\"/lkml/2015/10/17/69\"> [PATCH] HID: roccat: Fixed resubmit: Deprecating most Roccat sysf ...</a>\n"
       ]
      }
     ],
     "prompt_number": 28
    },
    {
     "cell_type": "markdown",
     "metadata": {
      "slideshow": {
       "slide_type": "slide"
      }
     },
     "source": [
      "# Example: Get URL, title, and author of each message"
     ]
    },
    {
     "cell_type": "code",
     "collapsed": false,
     "input": [
      "# Boolean operators are supported\n",
      "message_rows = lkms.xpath(\"//tr[@class='c0' or @class='c1']\")\n",
      "print lxml.etree.tostring(message_rows[0],pretty_print=True)"
     ],
     "language": "python",
     "metadata": {
      "slideshow": {
       "slide_type": "fragment"
      }
     },
     "outputs": [
      {
       "output_type": "stream",
       "stream": "stdout",
       "text": [
        "<tr class=\"c0\">\n",
        "  <td>&#160;</td>\n",
        "  <td>\n",
        "    <a class=\"nb\" href=\"/lkml/2015/10/17/69\"> [PATCH] HID: roccat: Fixed resubmit: Deprecating most Roccat sysf ...</a>\n",
        "  </td>\n",
        "  <td>\n",
        "    <a class=\"nb\" href=\"/lkml/2015/10/17/69\">Stefan Achatz</a>\n",
        "  </td>\n",
        "</tr>\n",
        "\n"
       ]
      }
     ],
     "prompt_number": 29
    },
    {
     "cell_type": "code",
     "collapsed": false,
     "input": [
      "# XPath can look for \"paths\" of tags\n",
      "tr = message_rows[0]\n",
      "(thread_td, author_td) = tr.xpath(\"./child::td/child::a\")"
     ],
     "language": "python",
     "metadata": {
      "slideshow": {
       "slide_type": "fragment"
      }
     },
     "outputs": [],
     "prompt_number": 30
    },
    {
     "cell_type": "code",
     "collapsed": false,
     "input": [
      "# Shorthand for the above:\n",
      "# \"child::\" is the default axis\n",
      "(thread_td, author_td) = tr.xpath(\"td/a\")"
     ],
     "language": "python",
     "metadata": {
      "slideshow": {
       "slide_type": "fragment"
      }
     },
     "outputs": [],
     "prompt_number": 31
    },
    {
     "cell_type": "code",
     "collapsed": false,
     "input": [
      "# `.get()` retrieves attributes, `.text` stores content\n",
      "thread_url = thread_td.get(\"href\")\n",
      "thread_title = thread_td.text\n",
      "author_name = author_td.text\n",
      "\n",
      "print author_name + \" added to the thread \" + thread_title"
     ],
     "language": "python",
     "metadata": {
      "slideshow": {
       "slide_type": "fragment"
      }
     },
     "outputs": [
      {
       "output_type": "stream",
       "stream": "stdout",
       "text": [
        "Stefan Achatz added to the thread  [PATCH] HID: roccat: Fixed resubmit: Deprecating most Roccat sysf ...\n"
       ]
      }
     ],
     "prompt_number": 32
    },
    {
     "cell_type": "markdown",
     "metadata": {
      "slideshow": {
       "slide_type": "slide"
      }
     },
     "source": [
      "# Example: Get only the *new* threads"
     ]
    },
    {
     "cell_type": "code",
     "collapsed": false,
     "input": [
      "# Without an '@', strings in a criterion are assumed\n",
      "# to represent child tag contents...\n",
      "new_message_rows = lkms.xpath(\"//tr[td = '[New]']\")\n",
      "\n",
      "print lxml.etree.tostring(new_message_rows[0], pretty_print=True)"
     ],
     "language": "python",
     "metadata": {
      "slideshow": {
       "slide_type": "fragment"
      }
     },
     "outputs": [
      {
       "output_type": "stream",
       "stream": "stdout",
       "text": [
        "<tr class=\"c0\">\n",
        "  <td>[New]</td>\n",
        "  <td>\n",
        "    <a class=\"nb\" href=\"/lkml/2015/10/17/59\">[PATCH] libata: add support for NCQ commands for SG interface</a>\n",
        "  </td>\n",
        "  <td>\n",
        "    <a class=\"nb\" href=\"/lkml/2015/10/17/59\">vinayak.kale@gmail ...</a>\n",
        "  </td>\n",
        "</tr>\n",
        "\n"
       ]
      }
     ],
     "prompt_number": 33
    },
    {
     "cell_type": "markdown",
     "metadata": {
      "slideshow": {
       "slide_type": "slide"
      }
     },
     "source": [
      "# Example: Write an HTML to Markdown converter"
     ]
    },
    {
     "cell_type": "markdown",
     "metadata": {
      "slideshow": {
       "slide_type": "fragment"
      }
     },
     "source": [
      "## Bringing out the big guns: XSLT\n",
      "\n",
      "    XSLT is an XML dialect for turning other XML dialects into other other XML dialects, and also other things.\n",
      "    \n",
      "*(insert Inception noise here)*"
     ]
    },
    {
     "cell_type": "markdown",
     "metadata": {
      "slideshow": {
       "slide_type": "slide"
      }
     },
     "source": [
      "## The very, very basics of XSLT:"
     ]
    },
    {
     "cell_type": "markdown",
     "metadata": {
      "slideshow": {
       "slide_type": "fragment"
      }
     },
     "source": [
      "### XSLT instructions are stored in an `<xsl:stylesheet>`\n",
      "```\n",
      "<xsl:stylesheet version=\"1.0\" xmlns:xsl=\"http://www.w3.org/1999/XSL/Transform\">\n",
      "    ...\n",
      "</xsl:stylesheet>\n",
      "```"
     ]
    },
    {
     "cell_type": "markdown",
     "metadata": {
      "slideshow": {
       "slide_type": "subslide"
      }
     },
     "source": [
      "## A stylesheet is collection of `<xsl:template>`s\n",
      "```\n",
      "<xsl:stylesheet version=\"1.0\"xmlns:xsl=\"http://www.w3.org/1999/XSL/Transform\">\n",
      "\n",
      "    <xsl:template match=\"WHAT TO LOOK FOR (XPath)\">\n",
      "        WHAT TO OUTPUT\n",
      "    </xsl:template>\n",
      "    \n",
      "</xsl:stylesheet>\n",
      "```"
     ]
    },
    {
     "cell_type": "markdown",
     "metadata": {
      "slideshow": {
       "slide_type": "subslide"
      }
     },
     "source": [
      "## Three key elements of `WHAT TO OUTPUT`:"
     ]
    },
    {
     "cell_type": "markdown",
     "metadata": {
      "slideshow": {
       "slide_type": "fragment"
      }
     },
     "source": [
      "* Output literal string \"foo\":  `<xsl:text>foo</xsl:text>         `"
     ]
    },
    {
     "cell_type": "markdown",
     "metadata": {
      "slideshow": {
       "slide_type": "fragment"
      }
     },
     "source": [
      "* Value of attribute `foo`:  `<xsl:value_of select=\"@foo\" />`\n",
      "  * ...or anything else that can be described with XPath!"
     ]
    },
    {
     "cell_type": "markdown",
     "metadata": {
      "slideshow": {
       "slide_type": "fragment"
      }
     },
     "source": [
      "* Apply remaining templates to tag contents:  `<xsl:apply-templates />`"
     ]
    },
    {
     "cell_type": "markdown",
     "metadata": {
      "slideshow": {
       "slide_type": "subslide"
      }
     },
     "source": [
      "### A very simple example\n",
      "```\n",
      "<xsl:stylesheet version=\"1.0\"xmlns:xsl=\"http://www.w3.org/1999/XSL/Transform\">\n",
      "\n",
      "    <xsl:template match=\"/\">\n",
      "        <xsl:apply-templates/>\n",
      "    </xsl:template>\n",
      "    \n",
      "</xsl:stylesheet>\n",
      "```\n",
      "\n",
      "### What will this do?\n",
      "***Hint:*** Unmatched tags are ignored. Unmatched text is output."
     ]
    },
    {
     "cell_type": "markdown",
     "metadata": {
      "slideshow": {
       "slide_type": "subslide"
      }
     },
     "source": [
      "## Let's try it! "
     ]
    },
    {
     "cell_type": "code",
     "collapsed": false,
     "input": [
      "# Define stylesheet\n",
      "xss = lxml.etree.XML(\"\"\"\n",
      "<xsl:stylesheet version=\"1.0\" xmlns:xsl=\"http://www.w3.org/1999/XSL/Transform\">\n",
      "\n",
      "    <xsl:template match=\"/\">\n",
      "        <xsl:apply-templates/>\n",
      "    </xsl:template>\n",
      "    \n",
      "</xsl:stylesheet>\n",
      "\"\"\")\n",
      "\n",
      "# Create parser\n",
      "html2markdown = lxml.etree.XSLT(xss)\n",
      "\n",
      "# Create file-like object of content\n",
      "html = lxml.etree.parse(cStringIO.StringIO(\"\"\"\n",
      "<!DOCTYPE html PUBLIC \"-//W3C//DTD XHTML 1.0 Transitional//EN\" \"http://www.w3.org/TR/xhtml1/DTD/xhtml1-transitional.dtd\">\n",
      "<html>\n",
      "    <body>\n",
      "        <p>Typing in HTML by hand is a <i><b>PAIN!</b></i></p>\n",
      "        <p><a href=\"http://daringfireball.net/projects/markdown/\">Markdown</a> is <em>much nicer</em>!</p>\n",
      "    </body>\n",
      "</html>\n",
      "\"\"\"), parser=lxml.etree.HTMLParser())\n",
      "\n",
      "\n",
      "# Run content through the parser\n",
      "print html2markdown(html)"
     ],
     "language": "python",
     "metadata": {
      "slideshow": {
       "slide_type": "-"
      }
     },
     "outputs": [
      {
       "output_type": "stream",
       "stream": "stdout",
       "text": [
        "<?xml version=\"1.0\"?>\n",
        "\n",
        "    \n",
        "        Typing in HTML by hand is a PAIN!\n",
        "        Markdown is much nicer!\n",
        "    \n",
        "\n",
        "\n"
       ]
      }
     ],
     "prompt_number": 34
    },
    {
     "cell_type": "markdown",
     "metadata": {},
     "source": [
      "# A more functional example"
     ]
    },
    {
     "cell_type": "code",
     "collapsed": false,
     "input": [
      "html = lxml.etree.parse(cStringIO.StringIO(\"\"\"\n",
      "<!DOCTYPE html PUBLIC \"-//W3C//DTD XHTML 1.0 Transitional//EN\" \"http://www.w3.org/TR/xhtml1/DTD/xhtml1-transitional.dtd\">\n",
      "<html>\n",
      "    <body>\n",
      "        <p>Typing in HTML by hand is a <i><b>PAIN!</b></i></p>\n",
      "        <p><a href=\"http://daringfireball.net/projects/markdown/\">Markdown</a> is <em>much nicer</em>!</p>\n",
      "    </body>\n",
      "</html>\n",
      "\"\"\"), parser=lxml.etree.HTMLParser())\n",
      "\n",
      "xss = lxml.etree.XML(\"\"\"\n",
      "<xsl:stylesheet version=\"1.0\"\n",
      "    xmlns:xsl=\"http://www.w3.org/1999/XSL/Transform\">\n",
      "    <xsl:template match=\"/\">\n",
      "        <xsl:apply-templates/>\n",
      "    </xsl:template>\n",
      "    <xsl:template match=\"p\">\n",
      "        <xsl:apply-templates/>\n",
      "        <xsl:text>\\n\\n</xsl:text>\n",
      "    </xsl:template>\n",
      "</xsl:stylesheet>\n",
      "\"\"\")\n",
      "\n",
      "html2markdown = lxml.etree.XSLT(xss)\n",
      "print html2markdown(html)\n"
     ],
     "language": "python",
     "metadata": {
      "slideshow": {
       "slide_type": "-"
      }
     },
     "outputs": [
      {
       "output_type": "stream",
       "stream": "stdout",
       "text": [
        "<?xml version=\"1.0\"?>\n",
        "\n",
        "    \n",
        "        Typing in HTML by hand is a PAIN!\n",
        "\n",
        "\n",
        "        Markdown is much nicer!\n",
        "\n",
        "\n",
        "    \n",
        "\n",
        "\n"
       ]
      }
     ],
     "prompt_number": 35
    },
    {
     "cell_type": "markdown",
     "metadata": {
      "slideshow": {
       "slide_type": "subslide"
      }
     },
     "source": [
      "# We can keep building on this..."
     ]
    },
    {
     "cell_type": "code",
     "collapsed": false,
     "input": [
      "html = lxml.etree.parse(cStringIO.StringIO(\"\"\"\n",
      "<!DOCTYPE html PUBLIC \"-//W3C//DTD XHTML 1.0 Transitional//EN\" \"http://www.w3.org/TR/xhtml1/DTD/xhtml1-transitional.dtd\">\n",
      "<html>\n",
      "    <body>\n",
      "        <p>Typing in HTML by hand is a <i><b>PAIN!</b></i></p>\n",
      "        <p><a href=\"http://daringfireball.net/projects/markdown/\">Markdown</a> is <em>much nicer</em>!</p>\n",
      "    </body>\n",
      "</html>\n",
      "\"\"\"), parser=lxml.etree.HTMLParser())\n",
      "\n",
      "xss = lxml.etree.XML(\"\"\"\n",
      "<xsl:stylesheet version=\"1.0\"\n",
      "    xmlns:xsl=\"http://www.w3.org/1999/XSL/Transform\">\n",
      "    <xsl:template match=\"/\">\n",
      "        <xsl:apply-templates/>\n",
      "    </xsl:template>\n",
      "    <xsl:template match=\"p\">\n",
      "        <xsl:apply-templates/>\n",
      "        <xsl:text>\\n\\n</xsl:text>\n",
      "    </xsl:template>\n",
      "    \n",
      "    <xsl:template match=\"b\">\\\n",
      "        <xsl:text>**</xsl:text>\n",
      "        <xsl:apply-templates/>\n",
      "        <xsl:text>**</xsl:text>\n",
      "    </xsl:template>\n",
      "    \n",
      "</xsl:stylesheet>\n",
      "\"\"\")\n",
      "\n",
      "html2markdown = lxml.etree.XSLT(xss)\n",
      "print html2markdown(html)\n"
     ],
     "language": "python",
     "metadata": {
      "slideshow": {
       "slide_type": "-"
      }
     },
     "outputs": [
      {
       "output_type": "stream",
       "stream": "stdout",
       "text": [
        "<?xml version=\"1.0\"?>\n",
        "\n",
        "    \n",
        "        Typing in HTML by hand is a **PAIN!**\n",
        "\n",
        "\n",
        "        Markdown is much nicer!\n",
        "\n",
        "\n",
        "    \n",
        "\n",
        "\n"
       ]
      }
     ],
     "prompt_number": 36
    },
    {
     "cell_type": "markdown",
     "metadata": {
      "slideshow": {
       "slide_type": "subslide"
      }
     },
     "source": [
      "# ...and building...\n",
      "## This one shows how useful `apply_templates` can be..."
     ]
    },
    {
     "cell_type": "code",
     "collapsed": false,
     "input": [
      "html = lxml.etree.parse(cStringIO.StringIO(\"\"\"\n",
      "<!DOCTYPE html PUBLIC \"-//W3C//DTD XHTML 1.0 Transitional//EN\" \"http://www.w3.org/TR/xhtml1/DTD/xhtml1-transitional.dtd\">\n",
      "<html>\n",
      "    <body>\n",
      "        <p>Typing in HTML by hand is a <i><b>PAIN!</b></i></p>\n",
      "        <p><a href=\"http://daringfireball.net/projects/markdown/\">Markdown</a> is <em>much nicer</em>!</p>\n",
      "    </body>\n",
      "</html>\n",
      "\"\"\"), parser=lxml.etree.HTMLParser())\n",
      "\n",
      "xss = lxml.etree.XML(\"\"\"\n",
      "<xsl:stylesheet version=\"1.0\"\n",
      "    xmlns:xsl=\"http://www.w3.org/1999/XSL/Transform\">\n",
      "    <xsl:template match=\"/\">\n",
      "        <xsl:apply-templates/>\n",
      "    </xsl:template>\n",
      "    <xsl:template match=\"p\">\n",
      "        <xsl:apply-templates/>\n",
      "        <xsl:text>\\n\\n</xsl:text>\n",
      "    </xsl:template>\n",
      "    <xsl:template match=\"b\">\\\n",
      "        <xsl:text>**</xsl:text>\n",
      "        <xsl:apply-templates/>\n",
      "        <xsl:text>**</xsl:text>\n",
      "    </xsl:template>\n",
      "    \n",
      "    <xsl:template match=\"i|em\">\n",
      "        <xsl:text>*</xsl:text>\n",
      "        <xsl:apply-templates/>\n",
      "        <xsl:text>*</xsl:text>\n",
      "    </xsl:template>\n",
      "    \n",
      "</xsl:stylesheet>\n",
      "\"\"\")\n",
      "\n",
      "html2markdown = lxml.etree.XSLT(xss)\n",
      "print html2markdown(html)\n"
     ],
     "language": "python",
     "metadata": {
      "slideshow": {
       "slide_type": "-"
      }
     },
     "outputs": [
      {
       "output_type": "stream",
       "stream": "stdout",
       "text": [
        "<?xml version=\"1.0\"?>\n",
        "\n",
        "    \n",
        "        Typing in HTML by hand is a ***PAIN!***\n",
        "\n",
        "\n",
        "        Markdown is *much nicer*!\n",
        "\n",
        "\n",
        "    \n",
        "\n",
        "\n"
       ]
      }
     ],
     "prompt_number": 37
    },
    {
     "cell_type": "markdown",
     "metadata": {},
     "source": [
      "# ...and one more\n",
      "## with a more interesting `match`, and a `value-of`"
     ]
    },
    {
     "cell_type": "code",
     "collapsed": false,
     "input": [
      "html = lxml.etree.parse(cStringIO.StringIO(\"\"\"\n",
      "<!DOCTYPE html PUBLIC \"-//W3C//DTD XHTML 1.0 Transitional//EN\" \"http://www.w3.org/TR/xhtml1/DTD/xhtml1-transitional.dtd\">\n",
      "<html>\n",
      "    <body>\n",
      "        <p>Typing in HTML by hand is a <i><b>PAIN!</b></i></p>\n",
      "        <p><a href=\"http://daringfireball.net/projects/markdown/\">Markdown</a> is <em>much nicer</em>!</p>\n",
      "    </body>\n",
      "</html>\n",
      "\"\"\"), parser=lxml.etree.HTMLParser())\n",
      "\n",
      "xss = lxml.etree.XML(\"\"\"\n",
      "<xsl:stylesheet version=\"1.0\"\n",
      "    xmlns:xsl=\"http://www.w3.org/1999/XSL/Transform\">\n",
      "    <xsl:template match=\"/\">\n",
      "        <xsl:apply-templates/>\n",
      "    </xsl:template>\n",
      "    <xsl:template match=\"p\">\n",
      "        <xsl:apply-templates/>\n",
      "        <xsl:text>\\n\\n</xsl:text>\n",
      "    </xsl:template>\n",
      "    <xsl:template match=\"b\">\\\n",
      "        <xsl:text>**</xsl:text>\n",
      "        <xsl:apply-templates/>\n",
      "        <xsl:text>**</xsl:text>\n",
      "    </xsl:template>\n",
      "    <xsl:template match=\"i|em\">\n",
      "        <xsl:text>*</xsl:text>\n",
      "        <xsl:apply-templates/>\n",
      "        <xsl:text>*</xsl:text>\n",
      "    </xsl:template>\n",
      "    \n",
      "    <xsl:template match=\"a[@href]\">\n",
      "        <xsl:text>[</xsl:text>\n",
      "        <xsl:apply-templates/>\n",
      "        <xsl:text>](</xsl:text>\n",
      "        <xsl:value-of select=\"@href\"/>\n",
      "        <xsl:text>)</xsl:text>\n",
      "    </xsl:template>\n",
      "    \n",
      "</xsl:stylesheet>\n",
      "\"\"\")\n",
      "\n",
      "html2markdown = lxml.etree.XSLT(xss)\n",
      "print html2markdown(html)\n"
     ],
     "language": "python",
     "metadata": {
      "slideshow": {
       "slide_type": "-"
      }
     },
     "outputs": [
      {
       "output_type": "stream",
       "stream": "stdout",
       "text": [
        "<?xml version=\"1.0\"?>\n",
        "\n",
        "    \n",
        "        Typing in HTML by hand is a ***PAIN!***\n",
        "\n",
        "\n",
        "        [Markdown](http://daringfireball.net/projects/markdown/) is *much nicer*!\n",
        "\n",
        "\n",
        "    \n",
        "\n",
        "\n"
       ]
      }
     ],
     "prompt_number": 38
    },
    {
     "cell_type": "code",
     "collapsed": false,
     "input": [
      "lkms = lxml.etree.parse(\"lkms-last100.html\", parser=lxml.etree.HTMLParser())\n",
      "new_html = lxml.etree.parse(cStringIO.StringIO(\"\"\"\n",
      "<!DOCTYPE html PUBLIC \"-//W3C//DTD XHTML 1.0 Transitional//EN\" \"http://www.w3.org/TR/xhtml1/DTD/xhtml1-transitional.dtd\">\n",
      "<html>\n",
      "  <head>\n",
      "      <title>New Messages</title>\n",
      "  </head>\n",
      "  <body>\n",
      "      <h1>New Messages</h1>\n",
      "      <table id=\"messages\" width=\"100%\">\n",
      "      </table>\n",
      "  </body>\n",
      "</html>\n",
      "\"\"\"), parser=lxml.etree.HTMLParser())\n",
      "\n",
      "msg_table = new_html.find(\"//table[@id='messages']\")\n",
      "for msg_row in lkms.xpath(\"//tr[td/text() = '[New]']\"):\n",
      "    # Drop the now-redundant \"[New]\" cell\n",
      "    del(msg_row[0])\n",
      "    \n",
      "    # Derive a unique ID from the message's ID\n",
      "    msg_id = msg_row[0][0].get(\"href\").replace(\"/\",\"\")\n",
      "    \n",
      "    # Set class and ID attributes for the remaining cells\n",
      "    msg_row[0].set(\"id\",\"subject-\" + msg_id)\n",
      "    msg_row[0].set(\"class\",\"message subject\")\n",
      "    msg_row[1].set(\"id\",\"author-\" + msg_id)\n",
      "    msg_row[1].set(\"class\",\"message author\")\n",
      "    \n",
      "    msg_table.append(msg_row)\n",
      "\n",
      "print lxml.etree.tostring(new_html,method=\"html\",pretty_print=True) "
     ],
     "language": "python",
     "metadata": {
      "slideshow": {
       "slide_type": "skip"
      }
     },
     "outputs": [
      {
       "output_type": "stream",
       "stream": "stdout",
       "text": [
        "<!DOCTYPE html PUBLIC \"-//W3C//DTD XHTML 1.0 Transitional//EN\" \"http://www.w3.org/TR/xhtml1/DTD/xhtml1-transitional.dtd\">\n",
        "<html>\n",
        "  <head>\n",
        "      <title>New Messages</title>\n",
        "  </head>\n",
        "  <body>\n",
        "      <h1>New Messages</h1>\n",
        "      <table id=\"messages\" width=\"100%\">\n",
        "      <tr class=\"c0\">\n",
        "<td id=\"subject-lkml2015101759\" class=\"message subject\"><a class=\"nb\" href=\"/lkml/2015/10/17/59\">[PATCH] libata: add support for NCQ commands for SG interface</a></td>\n",
        "<td id=\"author-lkml2015101759\" class=\"message author\"><a class=\"nb\" href=\"/lkml/2015/10/17/59\">vinayak.kale@gmail ...</a></td>\n",
        "</tr>\n",
        "<tr class=\"c0\">\n",
        "<td id=\"subject-lkml2015101751\" class=\"message subject\"><a class=\"nb\" href=\"/lkml/2015/10/17/51\">[RFC PATCH 0/7] perf tools: Config BPF maps through perf cmdline</a></td>\n",
        "<td id=\"author-lkml2015101751\" class=\"message author\"><a class=\"nb\" href=\"/lkml/2015/10/17/51\">Wang Nan</a></td>\n",
        "</tr>\n",
        "<tr class=\"c0\">\n",
        "<td id=\"subject-lkml2015101745\" class=\"message subject\"><a class=\"nb\" href=\"/lkml/2015/10/17/45\">[PATCH v3] staging: rtl8192u: simplify conditional</a></td>\n",
        "<td id=\"author-lkml2015101745\" class=\"message author\"><a class=\"nb\" href=\"/lkml/2015/10/17/45\">Luis de Bethencourt</a></td>\n",
        "</tr>\n",
        "<tr class=\"c1\">\n",
        "<td id=\"subject-lkml2015101744\" class=\"message subject\"><a class=\"nb\" href=\"/lkml/2015/10/17/44\">[ANNOUNCE] v4.10.10-rt10</a></td>\n",
        "<td id=\"author-lkml2015101744\" class=\"message author\"><a class=\"nb\" href=\"/lkml/2015/10/17/44\">Thomas Gleixner</a></td>\n",
        "</tr>\n",
        "<tr class=\"c1\">\n",
        "<td id=\"subject-lkml2015101738\" class=\"message subject\"><a class=\"nb\" href=\"/lkml/2015/10/17/38\">[PATCH] scripts/coccinelle: fix typos</a></td>\n",
        "<td id=\"author-lkml2015101738\" class=\"message author\"><a class=\"nb\" href=\"/lkml/2015/10/17/38\">Julia Lawall</a></td>\n",
        "</tr>\n",
        "<tr class=\"c0\">\n",
        "<td id=\"subject-lkml2015101735\" class=\"message subject\"><a class=\"nb\" href=\"/lkml/2015/10/17/35\">[PATCH 0/2] delete null dereference</a></td>\n",
        "<td id=\"author-lkml2015101735\" class=\"message author\"><a class=\"nb\" href=\"/lkml/2015/10/17/35\">Julia Lawall</a></td>\n",
        "</tr>\n",
        "<tr class=\"c0\">\n",
        "<td id=\"subject-lkml2015101731\" class=\"message subject\"><a class=\"nb\" href=\"/lkml/2015/10/17/31\">[PATCH] fault-inject: fix inverted interval/probability values in  ...</a></td>\n",
        "<td id=\"author-lkml2015101731\" class=\"message author\"><a class=\"nb\" href=\"/lkml/2015/10/17/31\">Florian Westphal</a></td>\n",
        "</tr>\n",
        "<tr class=\"c0\">\n",
        "<td id=\"subject-lkml2015101729\" class=\"message subject\"><a class=\"nb\" href=\"/lkml/2015/10/17/29\">[PATCH] serial: fsl_lpuart: add earlycon support</a></td>\n",
        "<td id=\"author-lkml2015101729\" class=\"message author\"><a class=\"nb\" href=\"/lkml/2015/10/17/29\">Stefan Agner</a></td>\n",
        "</tr>\n",
        "<tr class=\"c1\">\n",
        "<td id=\"subject-lkml2015101728\" class=\"message subject\"><a class=\"nb\" href=\"/lkml/2015/10/17/28\">[PATCH v4] PCI: Xilinx-NWL-PCIe: Added support for Xilinx NWL PCIe ...</a></td>\n",
        "<td id=\"author-lkml2015101728\" class=\"message author\"><a class=\"nb\" href=\"/lkml/2015/10/17/28\">Bharat Kumar Gogada</a></td>\n",
        "</tr>\n",
        "<tr class=\"c0\">\n",
        "<td id=\"subject-lkml2015101723\" class=\"message subject\"><a class=\"nb\" href=\"/lkml/2015/10/17/23\">[GIT pull] timer fix for 4.3</a></td>\n",
        "<td id=\"author-lkml2015101723\" class=\"message author\"><a class=\"nb\" href=\"/lkml/2015/10/17/23\">Thomas Gleixner</a></td>\n",
        "</tr>\n",
        "<tr class=\"c1\">\n",
        "<td id=\"subject-lkml2015101722\" class=\"message subject\"><a class=\"nb\" href=\"/lkml/2015/10/17/22\">[GIT pull] irq fix for 4.3</a></td>\n",
        "<td id=\"author-lkml2015101722\" class=\"message author\"><a class=\"nb\" href=\"/lkml/2015/10/17/22\">Thomas Gleixner</a></td>\n",
        "</tr>\n",
        "<tr class=\"c0\">\n",
        "<td id=\"subject-lkml2015101719\" class=\"message subject\"><a class=\"nb\" href=\"/lkml/2015/10/17/19\">GREETINGS TO YOU</a></td>\n",
        "<td id=\"author-lkml2015101719\" class=\"message author\"><a class=\"nb\" href=\"/lkml/2015/10/17/19\">,</a></td>\n",
        "</tr>\n",
        "<tr class=\"c1\">\n",
        "<td id=\"subject-lkml2015101714\" class=\"message subject\"><a class=\"nb\" href=\"/lkml/2015/10/17/14\">pull-request: wireless-drivers 2015-10-17</a></td>\n",
        "<td id=\"author-lkml2015101714\" class=\"message author\"><a class=\"nb\" href=\"/lkml/2015/10/17/14\">Kalle Valo</a></td>\n",
        "</tr>\n",
        "<tr class=\"c0\">\n",
        "<td id=\"subject-lkml2015101713\" class=\"message subject\"><a class=\"nb\" href=\"/lkml/2015/10/17/13\">[patch] iommu/vt-d: fix a loop in prq_event_thread()</a></td>\n",
        "<td id=\"author-lkml2015101713\" class=\"message author\"><a class=\"nb\" href=\"/lkml/2015/10/17/13\">Dan Carpenter</a></td>\n",
        "</tr>\n",
        "<tr class=\"c0\">\n",
        "<td id=\"subject-lkml201510171\" class=\"message subject\"><a class=\"nb\" href=\"/lkml/2015/10/17/1\">[PATCH v2 0/2] net, phy, smsc: add posibility to disable energy de ...</a></td>\n",
        "<td id=\"author-lkml201510171\" class=\"message author\"><a class=\"nb\" href=\"/lkml/2015/10/17/1\">Heiko Schocher</a></td>\n",
        "</tr>\n",
        "<tr class=\"c0\">\n",
        "<td id=\"subject-lkml20151016948\" class=\"message subject\"><a class=\"nb\" href=\"/lkml/2015/10/16/948\">[GIT PULL] phy: for 4.4 merge window</a></td>\n",
        "<td id=\"author-lkml20151016948\" class=\"message author\"><a class=\"nb\" href=\"/lkml/2015/10/16/948\">Kishon Vijay Abraham I</a></td>\n",
        "</tr>\n",
        "<tr class=\"c1\">\n",
        "<td id=\"subject-lkml20151016939\" class=\"message subject\"><a class=\"nb\" href=\"/lkml/2015/10/16/939\">[PATCH v2 net-next] RDS: fix rds-ping deadlock over TCP transport</a></td>\n",
        "<td id=\"author-lkml20151016939\" class=\"message author\"><a class=\"nb\" href=\"/lkml/2015/10/16/939\">Santosh Shilimkar</a></td>\n",
        "</tr>\n",
        "<tr class=\"c1\">\n",
        "<td id=\"subject-lkml20151016931\" class=\"message subject\"><a class=\"nb\" href=\"/lkml/2015/10/16/931\">[PATCH] perf/core: fix RCU issues with cgroup monitoring mode</a></td>\n",
        "<td id=\"author-lkml20151016931\" class=\"message author\"><a class=\"nb\" href=\"/lkml/2015/10/16/931\">Stephane Eranian</a></td>\n",
        "</tr>\n",
        "<tr class=\"c1\">\n",
        "<td id=\"subject-lkml20151016927\" class=\"message subject\"><a class=\"nb\" href=\"/lkml/2015/10/16/927\">[PATCH v10 0/1] Fix bugs in kona pwm driver and pwm core</a></td>\n",
        "<td id=\"author-lkml20151016927\" class=\"message author\"><a class=\"nb\" href=\"/lkml/2015/10/16/927\">Jonathan Richardson</a></td>\n",
        "</tr>\n",
        "<tr class=\"c0\">\n",
        "<td id=\"subject-lkml20151016926\" class=\"message subject\"><a class=\"nb\" href=\"/lkml/2015/10/16/926\">[PATCH net-next] RDS: fix rds-ping deadlock over TCP transport</a></td>\n",
        "<td id=\"author-lkml20151016926\" class=\"message author\"><a class=\"nb\" href=\"/lkml/2015/10/16/926\">Santosh Shilimkar</a></td>\n",
        "</tr>\n",
        "<tr class=\"c1\">\n",
        "<td id=\"subject-lkml20151016925\" class=\"message subject\"><a class=\"nb\" href=\"/lkml/2015/10/16/925\">[PATCH v2] MIPS64: signal: n64 kernel bugfix of MIPS32 o32 ABI sig ...</a></td>\n",
        "<td id=\"author-lkml20151016925\" class=\"message author\"><a class=\"nb\" href=\"/lkml/2015/10/16/925\">Leonid Yegoshin</a></td>\n",
        "</tr>\n",
        "<tr class=\"c0\">\n",
        "<td id=\"subject-lkml20151016924\" class=\"message subject\"><a class=\"nb\" href=\"/lkml/2015/10/16/924\">[PATCH v2] MIPS64: signal: n64 kernel bugfix of MIPS32 o32 ABI sig ...</a></td>\n",
        "<td id=\"author-lkml20151016924\" class=\"message author\"><a class=\"nb\" href=\"/lkml/2015/10/16/924\">Leonid Yegoshin</a></td>\n",
        "</tr>\n",
        "</table>\n",
        "  </body>\n",
        "</html>\n",
        "\n"
       ]
      }
     ],
     "prompt_number": 39
    }
   ],
   "metadata": {}
  }
 ]
}